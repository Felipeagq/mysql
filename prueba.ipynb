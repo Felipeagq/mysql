{
 "metadata": {
  "orig_nbformat": 2,
  "kernelspec": {
   "name": "python3",
   "display_name": "Python 3",
   "language": "python"
  }
 },
 "nbformat": 4,
 "nbformat_minor": 2,
 "cells": [
  {
   "cell_type": "code",
   "execution_count": 26,
   "metadata": {},
   "outputs": [
    {
     "output_type": "error",
     "ename": "ClientCannotConnectError",
     "evalue": "could not establish connection to server\n  CODE: 08001\n  LOCATION: CLIENT\nCONNECTION: [failed]\n  failures[0]:\n    SSL socket('54.173.107.244', 5432)\n    postgresql.exceptions.AuthenticationSpecificationError: no pg_hba.conf entry for host \"190.147.187.157\", user \"lyaelectronic\", database \"tzypyets\", SSL on\n      CODE: 28000\n      LOCATION: File 'auth.c', line 507, in ClientAuthentication from SERVER\n  failures[1]:\n    socket('54.173.107.244', 5432)\n    postgresql.exceptions.AuthenticationSpecificationError: no pg_hba.conf entry for host \"190.147.187.157\", user \"lyaelectronic\", database \"tzypyets\", SSL off\n      CODE: 28000\n      LOCATION: File 'auth.c', line 507, in ClientAuthentication from SERVER\nCONNECTOR: [Host] pq://lyaelectronic:***@ziggy.db.elephantsql.com:5432/tzypyets\n  category: None\nDRIVER: postgresql.driver.pq3.Driver",
     "traceback": [
      "\u001b[0;31m---------------------------------------------------------------------------\u001b[0m",
      "\u001b[0;31mClientCannotConnectError\u001b[0m                  Traceback (most recent call last)",
      "\u001b[0;32m<ipython-input-26-ea7e3bd5c587>\u001b[0m in \u001b[0;36m<module>\u001b[0;34m\u001b[0m\n\u001b[1;32m     10\u001b[0m \u001b[0;34m\u001b[0m\u001b[0m\n\u001b[1;32m     11\u001b[0m \u001b[0;34m\u001b[0m\u001b[0m\n\u001b[0;32m---> 12\u001b[0;31m db = postgresql.open('pq://{}:{}@{}:{}/{}'.format(USERNAME,\n\u001b[0m\u001b[1;32m     13\u001b[0m                                                   PASSWORD, HOST, PORT, DATABASE_NAME))\n\u001b[1;32m     14\u001b[0m \u001b[0;34m\u001b[0m\u001b[0m\n",
      "\u001b[0;32m~/Desktop/LA ELECTRONICS/MySQL-Python/mysql/lib/python3.8/site-packages/postgresql/__init__.py\u001b[0m in \u001b[0;36mopen\u001b[0;34m(iri, prompt_title, **kw)\u001b[0m\n\u001b[1;32m     90\u001b[0m         \u001b[0;32melse\u001b[0m\u001b[0;34m:\u001b[0m\u001b[0;34m\u001b[0m\u001b[0;34m\u001b[0m\u001b[0m\n\u001b[1;32m     91\u001b[0m                 \u001b[0mc\u001b[0m \u001b[0;34m=\u001b[0m \u001b[0mC\u001b[0m\u001b[0;34m(\u001b[0m\u001b[0;34m)\u001b[0m\u001b[0;34m\u001b[0m\u001b[0;34m\u001b[0m\u001b[0m\n\u001b[0;32m---> 92\u001b[0;31m                 \u001b[0mc\u001b[0m\u001b[0;34m.\u001b[0m\u001b[0mconnect\u001b[0m\u001b[0;34m(\u001b[0m\u001b[0;34m)\u001b[0m\u001b[0;34m\u001b[0m\u001b[0;34m\u001b[0m\u001b[0m\n\u001b[0m\u001b[1;32m     93\u001b[0m                 \u001b[0;32mreturn\u001b[0m \u001b[0mc\u001b[0m\u001b[0;34m\u001b[0m\u001b[0;34m\u001b[0m\u001b[0m\n\u001b[1;32m     94\u001b[0m \u001b[0;34m\u001b[0m\u001b[0m\n",
      "\u001b[0;32m~/Desktop/LA ELECTRONICS/MySQL-Python/mysql/lib/python3.8/site-packages/postgresql/driver/pq3.py\u001b[0m in \u001b[0;36mconnect\u001b[0;34m(self)\u001b[0m\n\u001b[1;32m   2425\u001b[0m                 \u001b[0;31m# It's closed.\u001b[0m\u001b[0;34m\u001b[0m\u001b[0;34m\u001b[0m\u001b[0;34m\u001b[0m\u001b[0m\n\u001b[1;32m   2426\u001b[0m                 \u001b[0;32mtry\u001b[0m\u001b[0;34m:\u001b[0m\u001b[0;34m\u001b[0m\u001b[0;34m\u001b[0m\u001b[0m\n\u001b[0;32m-> 2427\u001b[0;31m                         \u001b[0mself\u001b[0m\u001b[0;34m.\u001b[0m\u001b[0m_establish\u001b[0m\u001b[0;34m(\u001b[0m\u001b[0;34m)\u001b[0m\u001b[0;34m\u001b[0m\u001b[0;34m\u001b[0m\u001b[0m\n\u001b[0m\u001b[1;32m   2428\u001b[0m                 \u001b[0;32mexcept\u001b[0m \u001b[0mException\u001b[0m\u001b[0;34m:\u001b[0m\u001b[0;34m\u001b[0m\u001b[0;34m\u001b[0m\u001b[0m\n\u001b[1;32m   2429\u001b[0m                         \u001b[0;31m# Close it up on failure.\u001b[0m\u001b[0;34m\u001b[0m\u001b[0;34m\u001b[0m\u001b[0;34m\u001b[0m\u001b[0m\n",
      "\u001b[0;32m~/Desktop/LA ELECTRONICS/MySQL-Python/mysql/lib/python3.8/site-packages/postgresql/driver/pq3.py\u001b[0m in \u001b[0;36m_establish\u001b[0;34m(self)\u001b[0m\n\u001b[1;32m   2551\u001b[0m                         \u001b[0mself\u001b[0m\u001b[0;34m.\u001b[0m\u001b[0mfailures\u001b[0m \u001b[0;34m=\u001b[0m \u001b[0mfailures\u001b[0m \u001b[0;32mor\u001b[0m \u001b[0;34m(\u001b[0m\u001b[0;34m)\u001b[0m\u001b[0;34m\u001b[0m\u001b[0;34m\u001b[0m\u001b[0m\n\u001b[1;32m   2552\u001b[0m                         \u001b[0;31m# it's over.\u001b[0m\u001b[0;34m\u001b[0m\u001b[0;34m\u001b[0m\u001b[0;34m\u001b[0m\u001b[0m\n\u001b[0;32m-> 2553\u001b[0;31m                         \u001b[0mself\u001b[0m\u001b[0;34m.\u001b[0m\u001b[0mtypio\u001b[0m\u001b[0;34m.\u001b[0m\u001b[0mraise_client_error\u001b[0m\u001b[0;34m(\u001b[0m\u001b[0mcould_not_connect\u001b[0m\u001b[0;34m,\u001b[0m \u001b[0mcreator\u001b[0m \u001b[0;34m=\u001b[0m \u001b[0mself\u001b[0m\u001b[0;34m,\u001b[0m \u001b[0mcause\u001b[0m \u001b[0;34m=\u001b[0m \u001b[0mexc\u001b[0m\u001b[0;34m)\u001b[0m\u001b[0;34m\u001b[0m\u001b[0;34m\u001b[0m\u001b[0m\n\u001b[0m\u001b[1;32m   2554\u001b[0m                 \u001b[0;31m##\u001b[0m\u001b[0;34m\u001b[0m\u001b[0;34m\u001b[0m\u001b[0;34m\u001b[0m\u001b[0m\n\u001b[1;32m   2555\u001b[0m                 \u001b[0;31m# connected, now initialize connection information.\u001b[0m\u001b[0;34m\u001b[0m\u001b[0;34m\u001b[0m\u001b[0;34m\u001b[0m\u001b[0m\n",
      "\u001b[0;32m~/Desktop/LA ELECTRONICS/MySQL-Python/mysql/lib/python3.8/site-packages/postgresql/driver/pq3.py\u001b[0m in \u001b[0;36mraise_client_error\u001b[0;34m(self, error_message, cause, creator)\u001b[0m\n\u001b[1;32m    512\u001b[0m                         \u001b[0;32mraise\u001b[0m \u001b[0mclient_error\u001b[0m \u001b[0;32mfrom\u001b[0m \u001b[0mcause\u001b[0m\u001b[0;34m\u001b[0m\u001b[0;34m\u001b[0m\u001b[0m\n\u001b[1;32m    513\u001b[0m                 \u001b[0;32melse\u001b[0m\u001b[0;34m:\u001b[0m\u001b[0;34m\u001b[0m\u001b[0;34m\u001b[0m\u001b[0m\n\u001b[0;32m--> 514\u001b[0;31m                         \u001b[0;32mraise\u001b[0m \u001b[0mclient_error\u001b[0m\u001b[0;34m\u001b[0m\u001b[0;34m\u001b[0m\u001b[0m\n\u001b[0m\u001b[1;32m    515\u001b[0m \u001b[0;34m\u001b[0m\u001b[0m\n\u001b[1;32m    516\u001b[0m         \u001b[0;32mdef\u001b[0m \u001b[0mlookup_exception\u001b[0m\u001b[0;34m(\u001b[0m\u001b[0mself\u001b[0m\u001b[0;34m,\u001b[0m \u001b[0mcode\u001b[0m\u001b[0;34m,\u001b[0m \u001b[0merrorlookup\u001b[0m \u001b[0;34m=\u001b[0m \u001b[0mpg_exc\u001b[0m\u001b[0;34m.\u001b[0m\u001b[0mErrorLookup\u001b[0m\u001b[0;34m,\u001b[0m\u001b[0;34m)\u001b[0m\u001b[0;34m:\u001b[0m\u001b[0;34m\u001b[0m\u001b[0;34m\u001b[0m\u001b[0m\n",
      "\u001b[0;31mClientCannotConnectError\u001b[0m: could not establish connection to server\n  CODE: 08001\n  LOCATION: CLIENT\nCONNECTION: [failed]\n  failures[0]:\n    SSL socket('54.173.107.244', 5432)\n    postgresql.exceptions.AuthenticationSpecificationError: no pg_hba.conf entry for host \"190.147.187.157\", user \"lyaelectronic\", database \"tzypyets\", SSL on\n      CODE: 28000\n      LOCATION: File 'auth.c', line 507, in ClientAuthentication from SERVER\n  failures[1]:\n    socket('54.173.107.244', 5432)\n    postgresql.exceptions.AuthenticationSpecificationError: no pg_hba.conf entry for host \"190.147.187.157\", user \"lyaelectronic\", database \"tzypyets\", SSL off\n      CODE: 28000\n      LOCATION: File 'auth.c', line 507, in ClientAuthentication from SERVER\nCONNECTOR: [Host] pq://lyaelectronic:***@ziggy.db.elephantsql.com:5432/tzypyets\n  category: None\nDRIVER: postgresql.driver.pq3.Driver"
     ]
    }
   ],
   "source": [
    "import postgresql\n",
    "from dotenv import load_dotenv\n",
    "\n",
    "load_dotenv()\n",
    "HOST = os.getenv(\"HOST\")\n",
    "PORT = os.getenv(\"PORT\")\n",
    "USERNAME = os.getenv(\"USERNAME\")\n",
    "DATABASE_NAME = os.getenv(\"DATABASE\")\n",
    "PASSWORD = os.getenv(\"PASSWORD\")\n",
    "\n",
    "\n",
    "db = postgresql.open('pq://{}:{}@{}:{}/{}'.format(USERNAME,\n",
    "                                                  PASSWORD, HOST, PORT, DATABASE_NAME))\n",
    "\n",
    "get_table = db.prepare(\"SELECT * from documentos\")\n",
    "print(get_table(\"documentos\"))\n",
    "\n",
    "# Streaming, in a transaction.\n",
    "with db.xact():\n",
    "\tfor x in get_table.rows(\"documentos\"):\n",
    "\t\tprint(x)"
   ]
  },
  {
   "cell_type": "code",
   "execution_count": null,
   "metadata": {},
   "outputs": [],
   "source": []
  }
 ]
}